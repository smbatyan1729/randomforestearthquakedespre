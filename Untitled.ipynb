{
 "cells": [
  {
   "cell_type": "code",
   "execution_count": 34,
   "metadata": {
    "scrolled": true
   },
   "outputs": [
    {
     "data": {
      "text/plain": [
       "{'w': 0, 'r': 1, 'u': 2, 'i': 3, 'h': 4}"
      ]
     },
     "execution_count": 34,
     "metadata": {},
     "output_type": "execute_result"
    }
   ],
   "source": [
    "train_data = pd.read_csv(\"data/train.csv\")\n",
    "train_data = train_data[:300]\n",
    "\n",
    "labels = train_data['label'].values\n",
    "x = np.array(train_data.drop('label', axis=1))\n",
    "y = labels\n",
    "{\n",
    "    0: 'age' , \n",
    "    1: 'foundation_type', \n",
    "    2: 'roof_type', \n",
    "    3: 'position', \n",
    "    4: 'label', \n",
    "    5: 'loc_id',\n",
    "    6: 'num_floors', \n",
    "    7: 'area', \n",
    "    8: 'height', \n",
    "    9: 'num_families', \n",
    "    10: 'ownership_type',\n",
    "    11: 'configuration', \n",
    "    12: 'surface_condition'\n",
    "}\n",
    "set(train_data['foundation_type'])\n",
    "\n",
    "{list(set(x.T[1]))[i]: i for i in range(len(list(set(x.T[1]))))}"
   ]
  },
  {
   "cell_type": "code",
   "execution_count": null,
   "metadata": {},
   "outputs": [],
   "source": []
  },
  {
   "cell_type": "code",
   "execution_count": null,
   "metadata": {},
   "outputs": [],
   "source": []
  },
  {
   "cell_type": "code",
   "execution_count": null,
   "metadata": {},
   "outputs": [],
   "source": []
  },
  {
   "cell_type": "code",
   "execution_count": null,
   "metadata": {},
   "outputs": [],
   "source": []
  },
  {
   "cell_type": "code",
   "execution_count": null,
   "metadata": {},
   "outputs": [],
   "source": []
  },
  {
   "cell_type": "code",
   "execution_count": null,
   "metadata": {},
   "outputs": [],
   "source": []
  },
  {
   "cell_type": "code",
   "execution_count": 66,
   "metadata": {},
   "outputs": [
    {
     "name": "stdout",
     "output_type": "stream",
     "text": [
      "80000\n"
     ]
    }
   ],
   "source": [
    "import random\n",
    "\n",
    "train_data = pd.read_csv(\"data/train.csv\")\n",
    "labels = train_data['label'].values\n",
    "X = np.array(train_data.drop('label', axis=1))\n",
    "Y = labels\n",
    "\n",
    "c = np.c_[X.reshape(len(X), -1), Y.reshape(len(Y), -1)]\n",
    "np.random.shuffle(c)\n",
    "X1 = c[:, :X.size // len(X)].reshape(X.shape)\n",
    "len\n",
    "\n",
    "Y1 = c[:, -1].reshape(Y.shape)\n",
    "print(len(Y1))\n",
    "# for rand_percent in range(20, 80, 10):\n",
    "#     for tree_count in range(1, 10):\n",
    "#         for depth in range(4, 10):\n",
    "#             train_data_x = [X1[j] for j in range(len(X1)) if j < (i * step) or j >= (i + 1) * step]\n",
    "#         train_data_y = [Y1[j] for j in range(len(Y1)) if j < (i * step) or j >= (i + 1) * step]\n",
    "#         test_data = (X1[int(i * step): int((i + 1) * step)], Y1[int(i * step): int((i + 1) * step)])\n",
    "#         yield (train_data_x, train_data_y), test_data\n",
    "            "
   ]
  },
  {
   "cell_type": "code",
   "execution_count": null,
   "metadata": {},
   "outputs": [],
   "source": []
  }
 ],
 "metadata": {
  "kernelspec": {
   "display_name": "Python 3",
   "language": "python",
   "name": "python3"
  },
  "language_info": {
   "codemirror_mode": {
    "name": "ipython",
    "version": 3
   },
   "file_extension": ".py",
   "mimetype": "text/x-python",
   "name": "python",
   "nbconvert_exporter": "python",
   "pygments_lexer": "ipython3",
   "version": "3.6.9"
  }
 },
 "nbformat": 4,
 "nbformat_minor": 4
}
